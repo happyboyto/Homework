{
  "nbformat": 4,
  "nbformat_minor": 0,
  "metadata": {
    "colab": {
      "name": "Untitled7.ipynb",
      "provenance": [],
      "include_colab_link": true
    },
    "kernelspec": {
      "name": "python3",
      "display_name": "Python 3"
    }
  },
  "cells": [
    {
      "cell_type": "markdown",
      "metadata": {
        "id": "view-in-github",
        "colab_type": "text"
      },
      "source": [
        "<a href=\"https://colab.research.google.com/github/happyboyto/Homework/blob/master/%EC%97%B4%EC%9C%A0%EC%B2%B4%EA%B3%B5%ED%95%99%EC%8B%A4%ED%97%98-2016201278-HW05.ipynb\" target=\"_parent\"><img src=\"https://colab.research.google.com/assets/colab-badge.svg\" alt=\"Open In Colab\"/></a>"
      ]
    },
    {
      "cell_type": "code",
      "metadata": {
        "id": "pTbBxizV73py",
        "colab_type": "code",
        "colab": {}
      },
      "source": [
        "\n",
        "\n",
        "from mpl_toolkits import mplot3d\n",
        "%matplotlib inline\n",
        "import numpy as np\n",
        "import matplotlib.pyplot as plt\n",
        "fig = plt.figure()\n",
        "ax = plt.axes(projection='3d')"
      ],
      "execution_count": 0,
      "outputs": []
    },
    {
      "cell_type": "code",
      "metadata": {
        "id": "kYRaK4M276EB",
        "colab_type": "code",
        "colab": {}
      },
      "source": [
        "def homework05():\n",
        "    theta = 2 * np.pi * np.random.random(1000)\n",
        "    r = 6 * np.random.random(1000)\n",
        "    x = np.ravel(r * np.sin(theta))\n",
        "    y = np.ravel(r * np.cos(theta))\n",
        "    z = np.exp(-0.1*x**2-0.1*y**2)\n",
        "    return x, y, z\n",
        "\n",
        "x, y, z = homework05()\n",
        "\n",
        "ax = plt.axes(projection='3d')\n",
        "ax.plot_trisurf(x,y,z,cmap='Accent',edgecolor='none');\n",
        "ax.set_xlim(-5, 5); ax.set_ylim(-5, 5); ax.set_zlim(0, 1);"
      ],
      "execution_count": 0,
      "outputs": []
    }
  ]
}